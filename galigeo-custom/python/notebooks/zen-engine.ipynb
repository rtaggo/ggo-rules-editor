{
 "cells": [
  {
   "cell_type": "markdown",
   "metadata": {},
   "source": [
    "# Test Zen Engine"
   ]
  },
  {
   "cell_type": "code",
   "execution_count": 19,
   "metadata": {},
   "outputs": [],
   "source": [
    "import zen\n",
    "import json\n",
    "import itertools"
   ]
  },
  {
   "cell_type": "code",
   "execution_count": 2,
   "metadata": {},
   "outputs": [],
   "source": [
    "JSON_INDENT = 2"
   ]
  },
  {
   "cell_type": "code",
   "execution_count": 3,
   "metadata": {},
   "outputs": [],
   "source": [
    "def decision_loader(decision_model):\n",
    "    with open(f\"../../data/{decision_model}.json\", \"r\") as f:\n",
    "        return f.read()\n"
   ]
  },
  {
   "cell_type": "code",
   "execution_count": 4,
   "metadata": {},
   "outputs": [],
   "source": [
    "\n",
    "\n",
    "z_engine = zen.ZenEngine({\"loader\": decision_loader})\n",
    "decision_graph = z_engine.get_decision(\"loreal\")"
   ]
  },
  {
   "cell_type": "code",
   "execution_count": 5,
   "metadata": {},
   "outputs": [],
   "source": [
    "content = {\n",
    "  \"customer\": {\n",
    "    \"id\": \"100551679\",\n",
    "    \"brand\": \"keRastase\"\n",
    "  },\n",
    "  \"territory\": {\n",
    "    \"id\": \"T1\",\n",
    "    \"stakeholder\": \"Bob\"\n",
    "  }\n",
    "}\n",
    "decision_graph_result = decision_graph.evaluate(content)\n"
   ]
  },
  {
   "cell_type": "code",
   "execution_count": 6,
   "metadata": {},
   "outputs": [
    {
     "name": "stdout",
     "output_type": "stream",
     "text": [
      "{\n",
      "  \"user\": {\n",
      "    \"name\": \"Emma\"\n",
      "  },\n",
      "  \"exception_details\": {\n",
      "    \"details\": \"Customer located in Territory T1 assigned to Bob\",\n",
      "    \"message\": \"Force Assigned to Emma based on Customer ID\",\n",
      "    \"code\": \"FR_EXCEPTION\"\n",
      "  }\n",
      "}\n"
     ]
    }
   ],
   "source": [
    "print(json.dumps(decision_graph_result.get('result'), indent=JSON_INDENT))"
   ]
  },
  {
   "cell_type": "code",
   "execution_count": 7,
   "metadata": {},
   "outputs": [
    {
     "name": "stdout",
     "output_type": "stream",
     "text": [
      "{\n",
      "  \"user\": {\n",
      "    \"name\": \"Bob\"\n",
      "  }\n",
      "}\n"
     ]
    }
   ],
   "source": [
    "content = {\n",
    "  \"customer\": {\n",
    "    \"id\": \"B100551679\",\n",
    "    \"brand\": \"keRastase\"\n",
    "  },\n",
    "  \"territory\": {\n",
    "    \"id\": \"T1\",\n",
    "    \"stakeholder\": \"Bob\"\n",
    "  }\n",
    "}\n",
    "decision_graph_result = decision_graph.evaluate(content)\n",
    "print(json.dumps(decision_graph_result.get('result'), indent=JSON_INDENT))"
   ]
  },
  {
   "cell_type": "code",
   "execution_count": 8,
   "metadata": {},
   "outputs": [
    {
     "name": "stdout",
     "output_type": "stream",
     "text": [
      "{\n",
      "  \"error\": true,\n",
      "  \"message\": \"Customer brand may not be in list\",\n",
      "  \"reason\": \"UNKNOWN BRAND\",\n",
      "  \"territory\": {\n",
      "    \"id\": \"T1\",\n",
      "    \"stakeholder\": \"Bob\"\n",
      "  },\n",
      "  \"customer\": {\n",
      "    \"id\": \"B100551679\",\n",
      "    \"brand\": \"ggo inc\"\n",
      "  }\n",
      "}\n"
     ]
    }
   ],
   "source": [
    "content = {\n",
    "  \"customer\": {\n",
    "    \"id\": \"B100551679\",\n",
    "    \"brand\": \"GGO Inc\"\n",
    "  },\n",
    "  \"territory\": {\n",
    "    \"id\": \"T1\",\n",
    "    \"stakeholder\": \"Bob\"\n",
    "  }\n",
    "}\n",
    "decision_graph_result = decision_graph.evaluate(content)\n",
    "print(json.dumps(decision_graph_result.get('result'), indent=JSON_INDENT))"
   ]
  },
  {
   "cell_type": "code",
   "execution_count": 32,
   "metadata": {},
   "outputs": [],
   "source": [
    "brands = [\"keRastase\", \"l'oreal pro\", \"RedKen\", \"GGO Inc\", \"\"]\n",
    "customer_ids = [\"100551679\", \"B100551679\"]"
   ]
  },
  {
   "cell_type": "code",
   "execution_count": 33,
   "metadata": {},
   "outputs": [
    {
     "data": {
      "text/plain": [
       "[('100551679', 'keRastase'),\n",
       " ('100551679', \"l'oreal pro\"),\n",
       " ('100551679', 'RedKen'),\n",
       " ('100551679', 'GGO Inc'),\n",
       " ('100551679', ''),\n",
       " ('B100551679', 'keRastase'),\n",
       " ('B100551679', \"l'oreal pro\"),\n",
       " ('B100551679', 'RedKen'),\n",
       " ('B100551679', 'GGO Inc'),\n",
       " ('B100551679', '')]"
      ]
     },
     "execution_count": 33,
     "metadata": {},
     "output_type": "execute_result"
    }
   ],
   "source": [
    "list(itertools.product(customer_ids,brands))"
   ]
  },
  {
   "cell_type": "code",
   "execution_count": 34,
   "metadata": {},
   "outputs": [
    {
     "name": "stdout",
     "output_type": "stream",
     "text": [
      "Input data:\n",
      "{'customer': {'id': '100551679', 'brand': 'keRastase'}, 'territory': {'id': 'T1', 'stakeholder': 'Bob'}}\n",
      "Decision result:\n",
      "{\n",
      "  \"exception_details\": {\n",
      "    \"message\": \"Force Assigned to Emma based on Customer ID\",\n",
      "    \"code\": \"FR_EXCEPTION\",\n",
      "    \"details\": \"Customer located in Territory T1 assigned to Bob\"\n",
      "  },\n",
      "  \"user\": {\n",
      "    \"name\": \"Emma\"\n",
      "  }\n",
      "}\n",
      "\n",
      "Input data:\n",
      "{'customer': {'id': '100551679', 'brand': \"l'oreal pro\"}, 'territory': {'id': 'T1', 'stakeholder': 'Bob'}}\n",
      "Decision result:\n",
      "{\n",
      "  \"user\": {\n",
      "    \"name\": \"Emma\"\n",
      "  },\n",
      "  \"exception_details\": {\n",
      "    \"details\": \"Customer located in Territory T1 assigned to Bob\",\n",
      "    \"message\": \"Force Assigned to Emma based on Customer ID\",\n",
      "    \"code\": \"FR_EXCEPTION\"\n",
      "  }\n",
      "}\n",
      "\n",
      "Input data:\n",
      "{'customer': {'id': '100551679', 'brand': 'RedKen'}, 'territory': {'id': 'T1', 'stakeholder': 'Bob'}}\n",
      "Decision result:\n",
      "{\n",
      "  \"user\": {\n",
      "    \"name\": \"Bob\"\n",
      "  }\n",
      "}\n",
      "\n",
      "Input data:\n",
      "{'customer': {'id': '100551679', 'brand': 'GGO Inc'}, 'territory': {'id': 'T1', 'stakeholder': 'Bob'}}\n",
      "Decision result:\n",
      "{\n",
      "  \"error\": true,\n",
      "  \"customer\": {\n",
      "    \"brand\": \"ggo inc\",\n",
      "    \"id\": \"100551679\"\n",
      "  },\n",
      "  \"message\": \"Customer brand may not be in list\",\n",
      "  \"reason\": \"UNKNOWN BRAND\",\n",
      "  \"territory\": {\n",
      "    \"id\": \"T1\",\n",
      "    \"stakeholder\": \"Bob\"\n",
      "  }\n",
      "}\n",
      "\n",
      "Input data:\n",
      "{'customer': {'id': '100551679', 'brand': ''}, 'territory': {'id': 'T1', 'stakeholder': 'Bob'}}\n",
      "Decision result:\n",
      "{\n",
      "  \"reason\": \"UNKNOWN BRAND\",\n",
      "  \"customer\": {\n",
      "    \"id\": \"100551679\",\n",
      "    \"brand\": \"\"\n",
      "  },\n",
      "  \"error\": true,\n",
      "  \"message\": \"Customer brand may not be in list\",\n",
      "  \"territory\": {\n",
      "    \"id\": \"T1\",\n",
      "    \"stakeholder\": \"Bob\"\n",
      "  }\n",
      "}\n",
      "\n",
      "Input data:\n",
      "{'customer': {'id': 'B100551679', 'brand': 'keRastase'}, 'territory': {'id': 'T1', 'stakeholder': 'Bob'}}\n",
      "Decision result:\n",
      "{\n",
      "  \"user\": {\n",
      "    \"name\": \"Bob\"\n",
      "  }\n",
      "}\n",
      "\n",
      "Input data:\n",
      "{'customer': {'id': 'B100551679', 'brand': \"l'oreal pro\"}, 'territory': {'id': 'T1', 'stakeholder': 'Bob'}}\n",
      "Decision result:\n",
      "{\n",
      "  \"user\": {\n",
      "    \"name\": \"Bob\"\n",
      "  }\n",
      "}\n",
      "\n",
      "Input data:\n",
      "{'customer': {'id': 'B100551679', 'brand': 'RedKen'}, 'territory': {'id': 'T1', 'stakeholder': 'Bob'}}\n",
      "Decision result:\n",
      "{\n",
      "  \"user\": {\n",
      "    \"name\": \"Bob\"\n",
      "  }\n",
      "}\n",
      "\n",
      "Input data:\n",
      "{'customer': {'id': 'B100551679', 'brand': 'GGO Inc'}, 'territory': {'id': 'T1', 'stakeholder': 'Bob'}}\n",
      "Decision result:\n",
      "{\n",
      "  \"error\": true,\n",
      "  \"reason\": \"UNKNOWN BRAND\",\n",
      "  \"message\": \"Customer brand may not be in list\",\n",
      "  \"territory\": {\n",
      "    \"id\": \"T1\",\n",
      "    \"stakeholder\": \"Bob\"\n",
      "  },\n",
      "  \"customer\": {\n",
      "    \"brand\": \"ggo inc\",\n",
      "    \"id\": \"B100551679\"\n",
      "  }\n",
      "}\n",
      "\n",
      "Input data:\n",
      "{'customer': {'id': 'B100551679', 'brand': ''}, 'territory': {'id': 'T1', 'stakeholder': 'Bob'}}\n",
      "Decision result:\n",
      "{\n",
      "  \"message\": \"Customer brand may not be in list\",\n",
      "  \"reason\": \"UNKNOWN BRAND\",\n",
      "  \"customer\": {\n",
      "    \"id\": \"B100551679\",\n",
      "    \"brand\": \"\"\n",
      "  },\n",
      "  \"error\": true,\n",
      "  \"territory\": {\n",
      "    \"id\": \"T1\",\n",
      "    \"stakeholder\": \"Bob\"\n",
      "  }\n",
      "}\n",
      "\n"
     ]
    }
   ],
   "source": [
    "for customer_id, brand in list(itertools.product(customer_ids,brands)):\n",
    "    content = {\n",
    "      \"customer\": {\n",
    "        \"id\": customer_id,\n",
    "        \"brand\": brand\n",
    "      },\n",
    "      \"territory\": {\n",
    "        \"id\": \"T1\",\n",
    "        \"stakeholder\": \"Bob\"\n",
    "      }\n",
    "    }\n",
    "    decision_graph_result = decision_graph.evaluate(content)\n",
    "    print(\"Input data:\")\n",
    "    print(content)\n",
    "    print(\"Decision result:\")\n",
    "    print(json.dumps(decision_graph_result.get('result'), indent=JSON_INDENT))\n",
    "    print(\"\")"
   ]
  }
 ],
 "metadata": {
  "kernelspec": {
   "display_name": "env_notebooks",
   "language": "python",
   "name": "python3"
  },
  "language_info": {
   "codemirror_mode": {
    "name": "ipython",
    "version": 3
   },
   "file_extension": ".py",
   "mimetype": "text/x-python",
   "name": "python",
   "nbconvert_exporter": "python",
   "pygments_lexer": "ipython3",
   "version": "3.12.3"
  }
 },
 "nbformat": 4,
 "nbformat_minor": 2
}
